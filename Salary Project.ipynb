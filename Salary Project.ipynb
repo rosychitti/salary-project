{
 "cells": [
  {
   "cell_type": "code",
   "execution_count": null,
   "id": "d17b342e",
   "metadata": {},
   "outputs": [],
   "source": [
    "import pandas as pd"
   ]
  },
  {
   "cell_type": "code",
   "execution_count": null,
   "id": "ee224fb4",
   "metadata": {},
   "outputs": [],
   "source": [
    "df = pd.read_csv('https://raw.githubusercontent.com/dsrscientist/dataset3/main/Salaries.csv')"
   ]
  },
  {
   "cell_type": "code",
   "execution_count": null,
   "id": "70571bc4",
   "metadata": {},
   "outputs": [],
   "source": [
    "df"
   ]
  },
  {
   "cell_type": "code",
   "execution_count": null,
   "id": "393e7be5",
   "metadata": {},
   "outputs": [],
   "source": [
    "type(df)"
   ]
  },
  {
   "cell_type": "code",
   "execution_count": null,
   "id": "63e5c663",
   "metadata": {},
   "outputs": [],
   "source": [
    "df.columns"
   ]
  },
  {
   "cell_type": "code",
   "execution_count": null,
   "id": "10284de3",
   "metadata": {},
   "outputs": [],
   "source": [
    "df.isnull().sum()"
   ]
  },
  {
   "cell_type": "code",
   "execution_count": null,
   "id": "65da12bb",
   "metadata": {},
   "outputs": [],
   "source": [
    "import seaborn as sns\n",
    "sns.scatterplot(x='rank',y='salary',data=df)"
   ]
  },
  {
   "cell_type": "code",
   "execution_count": null,
   "id": "41d8136e",
   "metadata": {},
   "outputs": [],
   "source": [
    "sns.scatterplot(x='discipline',y='salary',data=df)"
   ]
  },
  {
   "cell_type": "code",
   "execution_count": null,
   "id": "5990e311",
   "metadata": {},
   "outputs": [],
   "source": [
    "sns.scatterplot(x='yrs.since.phd',y='salary',data=df)"
   ]
  },
  {
   "cell_type": "code",
   "execution_count": null,
   "id": "7c839e37",
   "metadata": {},
   "outputs": [],
   "source": [
    "sns.scatterplot(x='yrs.service',y='salary',data=df)"
   ]
  },
  {
   "cell_type": "code",
   "execution_count": null,
   "id": "0941f1aa",
   "metadata": {},
   "outputs": [],
   "source": [
    "sns.scatterplot(x='sex',y='salary',data=df)"
   ]
  },
  {
   "cell_type": "code",
   "execution_count": null,
   "id": "cce825ce",
   "metadata": {},
   "outputs": [],
   "source": [
    "df.corr()"
   ]
  },
  {
   "cell_type": "code",
   "execution_count": null,
   "id": "44764582",
   "metadata": {},
   "outputs": [],
   "source": [
    "df.corr()['salary'].sort_values()"
   ]
  },
  {
   "cell_type": "code",
   "execution_count": null,
   "id": "12d23d21",
   "metadata": {},
   "outputs": [],
   "source": [
    "import matplotlib.pyplot as plt\n",
    "#size of canvas\n",
    "plt.figure(figsize=(12,7))\n",
    "sns.heatmap(df.corr(), annot=True, linewidths=0.5, linecolor=\"black\",fmt='.2f')"
   ]
  },
  {
   "cell_type": "code",
   "execution_count": null,
   "id": "0ba6f0db",
   "metadata": {},
   "outputs": [],
   "source": [
    "df.describe()"
   ]
  },
  {
   "cell_type": "code",
   "execution_count": null,
   "id": "bd33e148",
   "metadata": {},
   "outputs": [],
   "source": [
    "plt.figure(figsize=(12,10))\n",
    "sns.heatmap(round(df.describe()[1:].transpose(),2),linewidth=2,annot=True,fmt=\"f\")\n",
    "plt.xticks(fontsize=15)\n",
    "plt.yticks(fontsize=12)\n",
    "plt.title(\"Salaries summary\")\n",
    "plt.show()"
   ]
  },
  {
   "cell_type": "code",
   "execution_count": null,
   "id": "0d11af1c",
   "metadata": {},
   "outputs": [],
   "source": [
    "df.info()"
   ]
  },
  {
   "cell_type": "code",
   "execution_count": null,
   "id": "72fa251a",
   "metadata": {},
   "outputs": [],
   "source": [
    "import warnings\n",
    "warnings.filterwarnings('ignore')"
   ]
  },
  {
   "cell_type": "code",
   "execution_count": null,
   "id": "ec96b232",
   "metadata": {},
   "outputs": [],
   "source": [
    "collist=df.columns.values\n",
    "ncol=20\n",
    "nrows=12\n",
    "plt.figure(figsize=(ncol,3*ncol))\n",
    "for i in range(0,len(collist)):\n",
    "    plt.subplot(nrows,ncol,i+1)\n",
    "    sns.boxplot(df[collist[i]],color='green',orient='h')\n",
    "    x=('rank','discipline','yrs.since.phd','yrs.service','sex')\n",
    "    y=('salary')\n",
    "    return('x','y')\n",
    "    \n",
    "plt.show()\n",
    "    \n",
    "    \n",
    "    "
   ]
  },
  {
   "cell_type": "code",
   "execution_count": null,
   "id": "eaa5b3c6",
   "metadata": {},
   "outputs": [],
   "source": [
    "df.skew()"
   ]
  },
  {
   "cell_type": "code",
   "execution_count": null,
   "id": "a1a60c24",
   "metadata": {},
   "outputs": [],
   "source": [
    "sns.displot(df[\"rank\"])"
   ]
  },
  {
   "cell_type": "code",
   "execution_count": null,
   "id": "eefcdf0b",
   "metadata": {},
   "outputs": [],
   "source": [
    "sns.displot(df[\"discipline\"])"
   ]
  },
  {
   "cell_type": "code",
   "execution_count": null,
   "id": "414d3f64",
   "metadata": {},
   "outputs": [],
   "source": [
    "sns.displot(df[\"yrs.since.phd\"])"
   ]
  },
  {
   "cell_type": "code",
   "execution_count": null,
   "id": "24366310",
   "metadata": {},
   "outputs": [],
   "source": [
    "sns.displot(df[\"yrs.service\"])"
   ]
  },
  {
   "cell_type": "code",
   "execution_count": null,
   "id": "5c877251",
   "metadata": {},
   "outputs": [],
   "source": [
    "sns.displot(df[\"sex\"])"
   ]
  },
  {
   "cell_type": "code",
   "execution_count": null,
   "id": "32d3c30c",
   "metadata": {},
   "outputs": [],
   "source": [
    "sns.displot(df[\"salary\"])"
   ]
  },
  {
   "cell_type": "code",
   "execution_count": null,
   "id": "96398a0b",
   "metadata": {},
   "outputs": [],
   "source": [
    "df.corr()['salary']"
   ]
  },
  {
   "cell_type": "code",
   "execution_count": null,
   "id": "0b032f96",
   "metadata": {},
   "outputs": [],
   "source": [
    "delete=pd.DataFrame([[\"yrs.since.phd\",\"0.419231\",\"No\",\"Alot\"]])\n",
    "delete"
   ]
  },
  {
   "cell_type": "code",
   "execution_count": null,
   "id": "864a97a4",
   "metadata": {},
   "outputs": [],
   "source": [
    "df=df.drop([\"yrs.since.phd\"],axis=1)"
   ]
  },
  {
   "cell_type": "code",
   "execution_count": null,
   "id": "5150729a",
   "metadata": {},
   "outputs": [],
   "source": [
    "df"
   ]
  },
  {
   "cell_type": "code",
   "execution_count": null,
   "id": "f5216f58",
   "metadata": {},
   "outputs": [],
   "source": [
    "from scipy.stats import zscore\n",
    "import numpy as np\n",
    "z=np.abs(zscore())\n",
    "z.shape"
   ]
  },
  {
   "cell_type": "code",
   "execution_count": null,
   "id": "4bccd494",
   "metadata": {},
   "outputs": [],
   "source": [
    "threshold=1 #rule of thumb\n",
    "#index number \n",
    "print(np.where(z>1))"
   ]
  },
  {
   "cell_type": "code",
   "execution_count": null,
   "id": "b1460773",
   "metadata": {},
   "outputs": [],
   "source": [
    "len(np.where(z>2)[0])"
   ]
  },
  {
   "cell_type": "code",
   "execution_count": null,
   "id": "9b38f853",
   "metadata": {},
   "outputs": [],
   "source": [
    "from sklearn.preprocessing import StandardScaler\n",
    "#create data\n",
    "data = x\n",
    "x=sklearn.preprocessing.StandardScale\n",
    "\n",
    "scaled_data = model.transform(data)\n",
    "#print scaled data"
   ]
  },
  {
   "cell_type": "code",
   "execution_count": null,
   "id": "68e33592",
   "metadata": {},
   "outputs": [],
   "source": [
    "input data=df\n",
    "pd.DataFrame(x).skew()"
   ]
  },
  {
   "cell_type": "code",
   "execution_count": null,
   "id": "d288a9dc",
   "metadata": {},
   "outputs": [],
   "source": [
    "df_new=df[(z<3).all(axis=1)]\n",
    "print(\"old Data frame\", df.shape)\n",
    "print(\"New Dataframe\",df_new.shape)\n",
    "print(\"total_dropped_rows\",df.shape[0]-df_new.shape[0])"
   ]
  },
  {
   "cell_type": "code",
   "execution_count": null,
   "id": "68c3407f",
   "metadata": {},
   "outputs": [],
   "source": [
    "# independent column\n",
    "x=df_new.iloc[:,:-1]\n",
    "# target\n",
    "y=df_new.iloc[:,-1]"
   ]
  },
  {
   "cell_type": "code",
   "execution_count": null,
   "id": "2b2848bf",
   "metadata": {},
   "outputs": [],
   "source": [
    "from sklearn.model_selection import train_test_split\n",
    "from sklearn.linear_model import logistivregression\n",
    "lr=logicRegression()\n",
    "from sklearn.metrics import accuracy_score"
   ]
  },
  {
   "cell_type": "code",
   "execution_count": null,
   "id": "4f3af7ee",
   "metadata": {},
   "outputs": [],
   "source": [
    "for i in range(0,1000):\n",
    "    x_train,test,y_train,y_test=train_test_split(x,y,random_state=i,test_size=0.20)\n",
    "    lr.fit(x_train,y_train)\n",
    "    pred_train=lr.predict(x_train)\n",
    "    pred_test=lr.predict(x_test)\n",
    "    if round(accuracy_score(y_train)*100,1) == round(accuracy_score(y_test,pred_test)*100,1):\n",
    "        print(\"At random state\",i,\"The model performs very well\")\n",
    "        print(\"At random_state:-\",i)\n",
    "        print(\"Training accuracy_score is:-\",accuracy_score(y_train,pred_train)*100)\n",
    "        print(\"Testing accuracy_score is:-\",accuracy_score(y_test,pred_test)*100,'\\n')\n",
    "    "
   ]
  },
  {
   "cell_type": "code",
   "execution_count": null,
   "id": "16b883c2",
   "metadata": {},
   "outputs": [],
   "source": [
    "import pickle\n",
    "filename = 'inhouse_diabetes.pkl'\n",
    "pickle.dump(lr, open(filename,'wb'))"
   ]
  },
  {
   "cell_type": "code",
   "execution_count": null,
   "id": "b8e0fc7c",
   "metadata": {},
   "outputs": [],
   "source": [
    "import numpy as np\n",
    "a=np.array(_test)\n",
    "predicted=np.array(lr.predict(x-test))\n",
    "df_com=pd.DataFrame({\"oroginal\":a,\"predicted\":predicted}, index= range(len(a)))\n",
    "df_com"
   ]
  },
  {
   "cell_type": "code",
   "execution_count": null,
   "id": "2fbe0557",
   "metadata": {},
   "outputs": [],
   "source": []
  }
 ],
 "metadata": {
  "kernelspec": {
   "display_name": "Python 3 (ipykernel)",
   "language": "python",
   "name": "python3"
  },
  "language_info": {
   "codemirror_mode": {
    "name": "ipython",
    "version": 3
   },
   "file_extension": ".py",
   "mimetype": "text/x-python",
   "name": "python",
   "nbconvert_exporter": "python",
   "pygments_lexer": "ipython3",
   "version": "3.9.7"
  }
 },
 "nbformat": 4,
 "nbformat_minor": 5
}
